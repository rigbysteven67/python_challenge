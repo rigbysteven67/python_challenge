{
 "cells": [
  {
   "cell_type": "code",
   "execution_count": 13,
   "metadata": {},
   "outputs": [],
   "source": [
    "import os\n",
    "import csv"
   ]
  },
  {
   "cell_type": "code",
   "execution_count": 14,
   "metadata": {},
   "outputs": [],
   "source": [
    "# Path to collect data from the Resources folder\n",
    "\n",
    "# Define the function and have it accept the 'wrestlerData' as its sole parameter\n",
    "\n",
    "# Find the total number of matches wrestled\n",
    "\n",
    "# Find the percentage of matches won\n",
    "\n",
    "# Find the percentage of matches lost\n",
    "\n",
    "# Find the percentage of matches drawn\n",
    "\n",
    "# Print out the wrestler's name and their percentage stats"
   ]
  },
  {
   "cell_type": "code",
   "execution_count": 35,
   "metadata": {},
   "outputs": [
    {
     "name": "stdout",
     "output_type": "stream",
     "text": [
      "What wrestler do you want to look for? Dean Ambrose\n",
      "Stats for Dean Ambrose\n",
      "Win Percentage: 65.19607843137256\n",
      "Lose Percentage: 32.84313725490196\n",
      "Draw Percentage: 1.9607843137254901\n"
     ]
    }
   ],
   "source": [
    "# Path to collect data from the Resources folder\n",
    "wrestling_csv = os.path.join(r'C:\\Users\\Steven\\gwu-arl-data-pt-09-2020-u-c\\02-Homework\\03-Python\\01-Mini-Assignment\\3.08-HW_WrestlingWithFunctions\\Resources', 'WWE-Data-2016.csv')\n",
    "\n",
    "# Read in the CSV file\n",
    "with open(wrestling_csv, 'r') as csvfile:\n",
    "\n",
    "    # Split the data on commas\n",
    "    csvreader = csv.reader(csvfile, delimiter=',')\n",
    "    \n",
    "    # Define the function and have it accept the 'wrestlerData' as its sole parameter\n",
    "    def print_percentages(wrestlerData):\n",
    "        name = str(wrestlerData[0])\n",
    "        won = int(wrestlerData[1])\n",
    "        lost = int(wrestlerData[2])\n",
    "        draw = int(wrestlerData[3])\n",
    "\n",
    "    # Find the total number of matches wrestled\n",
    "        total = won + lost + draw\n",
    "\n",
    "    # Find the percentage of matches won\n",
    "        percent_won = (won/total) * 100\n",
    "\n",
    "    # Find the percentage of matches lost\n",
    "        percent_lost = (lost/total) * 100\n",
    "\n",
    "    # Find the percentage of matches drawn\n",
    "        percent_draw = (draw/total) * 100\n",
    "        \n",
    "    # Print out the wrestler's name and their percentage stats\n",
    "        print(f\"Stats for {name}\")\n",
    "        print(f\"Win Percentage: {percent_won}\")\n",
    "        print(f'Lose Percentage: {percent_lost}')\n",
    "        print(f'Draw Percentage: {percent_draw}')\n",
    "\n",
    "    # Prompt the user for what wrestler they would like to search for\n",
    "    name_to_check = input(\"What wrestler do you want to look for? \")\n",
    "\n",
    "    # Loop through the data\n",
    "    for row in csvreader:\n",
    "\n",
    "        # If the wrestler's name in a row is equal to that which the user input, run the 'print_percentages()' function\n",
    "        if(name_to_check == row[0]):\n",
    "            print_percentages(row)"
   ]
  },
  {
   "cell_type": "code",
   "execution_count": null,
   "metadata": {},
   "outputs": [],
   "source": []
  },
  {
   "cell_type": "code",
   "execution_count": null,
   "metadata": {},
   "outputs": [],
   "source": []
  }
 ],
 "metadata": {
  "kernelspec": {
   "display_name": "Python 3",
   "language": "python",
   "name": "python3"
  },
  "language_info": {
   "codemirror_mode": {
    "name": "ipython",
    "version": 3
   },
   "file_extension": ".py",
   "mimetype": "text/x-python",
   "name": "python",
   "nbconvert_exporter": "python",
   "pygments_lexer": "ipython3",
   "version": "3.8.3"
  }
 },
 "nbformat": 4,
 "nbformat_minor": 2
}
